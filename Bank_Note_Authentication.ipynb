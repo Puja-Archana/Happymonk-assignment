{
  "nbformat": 4,
  "nbformat_minor": 0,
  "metadata": {
    "colab": {
      "name": "Bank-Note-Authentication.ipynb",
      "provenance": [],
      "authorship_tag": "ABX9TyPNwO42SvVD4g2ywTRbni0g",
      "include_colab_link": true
    },
    "kernelspec": {
      "name": "python3",
      "display_name": "Python 3"
    },
    "language_info": {
      "name": "python"
    },
    "accelerator": "GPU"
  },
  "cells": [
    {
      "cell_type": "markdown",
      "metadata": {
        "id": "view-in-github",
        "colab_type": "text"
      },
      "source": [
        "<a href=\"https://colab.research.google.com/github/Puja-Archana/Happymonk-assignment/blob/main/Bank_Note_Authentication.ipynb\" target=\"_parent\"><img src=\"https://colab.research.google.com/assets/colab-badge.svg\" alt=\"Open In Colab\"/></a>"
      ]
    },
    {
      "cell_type": "markdown",
      "metadata": {
        "id": "E74dpsJrNmeU"
      },
      "source": [
        "## Bank Note Authentication using ANN\n",
        "\n",
        "---\n",
        "\n",
        "\n",
        "\n",
        "###### Dataset used is from https://www.kaggle.com/ritesaluja/bank-note-authentication-uci-data\n",
        "\n",
        "---\n",
        "\n",
        "\n",
        "\n",
        "**Name:** Puja Archana Sahu\n",
        "\n",
        "---\n",
        "\n",
        "\n",
        "**mail:** puja.archana21@gmail.com"
      ]
    },
    {
      "cell_type": "markdown",
      "metadata": {
        "id": "Ad8nguJXNiTP"
      },
      "source": [
        "### Importing libraries and dataset"
      ]
    },
    {
      "cell_type": "code",
      "metadata": {
        "id": "nv9Pfn2C1cOm"
      },
      "source": [
        "import pandas as pd\n",
        "import numpy as np\n",
        "from tensorflow import keras\n",
        "from tensorflow.keras import layers\n",
        "\n",
        "import seaborn as sns\n",
        "import matplotlib.pyplot as plt\n"
      ],
      "execution_count": 1,
      "outputs": []
    },
    {
      "cell_type": "code",
      "metadata": {
        "id": "0ck3pc-jO8BM"
      },
      "source": [
        "np.random.seed(0)"
      ],
      "execution_count": 2,
      "outputs": []
    },
    {
      "cell_type": "code",
      "metadata": {
        "id": "yMM2LdCl2V-7"
      },
      "source": [
        "BankDs = pd.read_csv(\"/content/BankNoteAuthentication.csv\")\n"
      ],
      "execution_count": 3,
      "outputs": []
    },
    {
      "cell_type": "code",
      "metadata": {
        "colab": {
          "base_uri": "https://localhost:8080/",
          "height": 206
        },
        "id": "9v1yULSP2dsC",
        "outputId": "d48204fe-1e20-42c1-f593-d94a8a80035e"
      },
      "source": [
        "BankDs.head()"
      ],
      "execution_count": 4,
      "outputs": [
        {
          "output_type": "execute_result",
          "data": {
            "text/html": [
              "<div>\n",
              "<style scoped>\n",
              "    .dataframe tbody tr th:only-of-type {\n",
              "        vertical-align: middle;\n",
              "    }\n",
              "\n",
              "    .dataframe tbody tr th {\n",
              "        vertical-align: top;\n",
              "    }\n",
              "\n",
              "    .dataframe thead th {\n",
              "        text-align: right;\n",
              "    }\n",
              "</style>\n",
              "<table border=\"1\" class=\"dataframe\">\n",
              "  <thead>\n",
              "    <tr style=\"text-align: right;\">\n",
              "      <th></th>\n",
              "      <th>variance</th>\n",
              "      <th>skewness</th>\n",
              "      <th>curtosis</th>\n",
              "      <th>entropy</th>\n",
              "      <th>class</th>\n",
              "    </tr>\n",
              "  </thead>\n",
              "  <tbody>\n",
              "    <tr>\n",
              "      <th>0</th>\n",
              "      <td>3.62160</td>\n",
              "      <td>8.6661</td>\n",
              "      <td>-2.8073</td>\n",
              "      <td>-0.44699</td>\n",
              "      <td>0</td>\n",
              "    </tr>\n",
              "    <tr>\n",
              "      <th>1</th>\n",
              "      <td>4.54590</td>\n",
              "      <td>8.1674</td>\n",
              "      <td>-2.4586</td>\n",
              "      <td>-1.46210</td>\n",
              "      <td>0</td>\n",
              "    </tr>\n",
              "    <tr>\n",
              "      <th>2</th>\n",
              "      <td>3.86600</td>\n",
              "      <td>-2.6383</td>\n",
              "      <td>1.9242</td>\n",
              "      <td>0.10645</td>\n",
              "      <td>0</td>\n",
              "    </tr>\n",
              "    <tr>\n",
              "      <th>3</th>\n",
              "      <td>3.45660</td>\n",
              "      <td>9.5228</td>\n",
              "      <td>-4.0112</td>\n",
              "      <td>-3.59440</td>\n",
              "      <td>0</td>\n",
              "    </tr>\n",
              "    <tr>\n",
              "      <th>4</th>\n",
              "      <td>0.32924</td>\n",
              "      <td>-4.4552</td>\n",
              "      <td>4.5718</td>\n",
              "      <td>-0.98880</td>\n",
              "      <td>0</td>\n",
              "    </tr>\n",
              "  </tbody>\n",
              "</table>\n",
              "</div>"
            ],
            "text/plain": [
              "   variance  skewness  curtosis  entropy  class\n",
              "0   3.62160    8.6661   -2.8073 -0.44699      0\n",
              "1   4.54590    8.1674   -2.4586 -1.46210      0\n",
              "2   3.86600   -2.6383    1.9242  0.10645      0\n",
              "3   3.45660    9.5228   -4.0112 -3.59440      0\n",
              "4   0.32924   -4.4552    4.5718 -0.98880      0"
            ]
          },
          "metadata": {
            "tags": []
          },
          "execution_count": 4
        }
      ]
    },
    {
      "cell_type": "code",
      "metadata": {
        "colab": {
          "base_uri": "https://localhost:8080/"
        },
        "id": "TcTzEg07AsOU",
        "outputId": "4ea8bb81-9ae6-4453-b4d8-a53d20962c25"
      },
      "source": [
        "BankDs['class'].unique()"
      ],
      "execution_count": 5,
      "outputs": [
        {
          "output_type": "execute_result",
          "data": {
            "text/plain": [
              "array([0, 1])"
            ]
          },
          "metadata": {
            "tags": []
          },
          "execution_count": 5
        }
      ]
    },
    {
      "cell_type": "markdown",
      "metadata": {
        "id": "rJ9NpVOhPOub"
      },
      "source": [
        "#### Checking for null values and other irregularities"
      ]
    },
    {
      "cell_type": "code",
      "metadata": {
        "id": "5Fg_FA8u2gLa",
        "colab": {
          "base_uri": "https://localhost:8080/"
        },
        "outputId": "3b3d2c7b-af4b-44a1-a54b-40a109d940d7"
      },
      "source": [
        "BankDs.isnull().sum()"
      ],
      "execution_count": 6,
      "outputs": [
        {
          "output_type": "execute_result",
          "data": {
            "text/plain": [
              "variance    0\n",
              "skewness    0\n",
              "curtosis    0\n",
              "entropy     0\n",
              "class       0\n",
              "dtype: int64"
            ]
          },
          "metadata": {
            "tags": []
          },
          "execution_count": 6
        }
      ]
    },
    {
      "cell_type": "code",
      "metadata": {
        "colab": {
          "base_uri": "https://localhost:8080/"
        },
        "id": "ptlfhS5OQltR",
        "outputId": "e1a97dd6-ee4c-4ebf-93ab-85892b1bf6cc"
      },
      "source": [
        "BankDs.dtypes"
      ],
      "execution_count": 7,
      "outputs": [
        {
          "output_type": "execute_result",
          "data": {
            "text/plain": [
              "variance    float64\n",
              "skewness    float64\n",
              "curtosis    float64\n",
              "entropy     float64\n",
              "class         int64\n",
              "dtype: object"
            ]
          },
          "metadata": {
            "tags": []
          },
          "execution_count": 7
        }
      ]
    },
    {
      "cell_type": "code",
      "metadata": {
        "colab": {
          "base_uri": "https://localhost:8080/"
        },
        "id": "f2m-mSaTBvAF",
        "outputId": "75519972-6628-47f2-f4b4-daa0ed83deb7"
      },
      "source": [
        "for col in BankDs:\n",
        "  print(f'{col}:{BankDs[col].unique()}')"
      ],
      "execution_count": 8,
      "outputs": [
        {
          "output_type": "stream",
          "text": [
            "variance:[ 3.6216  4.5459  3.866  ... -3.7503 -3.5637 -2.5419]\n",
            "skewness:[  8.6661    8.1674   -2.6383  ... -13.4586   -8.3827   -0.65804]\n",
            "curtosis:[-2.8073 -2.4586  1.9242 ... 17.5932 12.393   2.6842]\n",
            "entropy:[-0.44699 -1.4621   0.10645 ... -1.2953  -0.55949 -2.7771 ]\n",
            "class:[0 1]\n"
          ],
          "name": "stdout"
        }
      ]
    },
    {
      "cell_type": "code",
      "metadata": {
        "colab": {
          "base_uri": "https://localhost:8080/"
        },
        "id": "WPuUQSNEC_b0",
        "outputId": "7b6e8db4-3273-4d94-96b0-351055b6ce50"
      },
      "source": [
        "BankDs.shape"
      ],
      "execution_count": 9,
      "outputs": [
        {
          "output_type": "execute_result",
          "data": {
            "text/plain": [
              "(1372, 5)"
            ]
          },
          "metadata": {
            "tags": []
          },
          "execution_count": 9
        }
      ]
    },
    {
      "cell_type": "markdown",
      "metadata": {
        "id": "dczU50ebPoGB"
      },
      "source": [
        "#### Scaling"
      ]
    },
    {
      "cell_type": "code",
      "metadata": {
        "id": "eYg9elDdRjeb"
      },
      "source": [
        "cols_to_scale = ['variance','skewness','curtosis','entropy']\n",
        "\n",
        "from sklearn.preprocessing import MinMaxScaler\n",
        "scalar = MinMaxScaler()\n",
        "BankDs[cols_to_scale] = scalar.fit_transform(BankDs[cols_to_scale])"
      ],
      "execution_count": 10,
      "outputs": []
    },
    {
      "cell_type": "code",
      "metadata": {
        "colab": {
          "base_uri": "https://localhost:8080/",
          "height": 206
        },
        "id": "ToRqm1CtEBSq",
        "outputId": "0b1c6977-a9f1-4587-e64e-a53e75bbd5b8"
      },
      "source": [
        "BankDs.head()"
      ],
      "execution_count": 11,
      "outputs": [
        {
          "output_type": "execute_result",
          "data": {
            "text/html": [
              "<div>\n",
              "<style scoped>\n",
              "    .dataframe tbody tr th:only-of-type {\n",
              "        vertical-align: middle;\n",
              "    }\n",
              "\n",
              "    .dataframe tbody tr th {\n",
              "        vertical-align: top;\n",
              "    }\n",
              "\n",
              "    .dataframe thead th {\n",
              "        text-align: right;\n",
              "    }\n",
              "</style>\n",
              "<table border=\"1\" class=\"dataframe\">\n",
              "  <thead>\n",
              "    <tr style=\"text-align: right;\">\n",
              "      <th></th>\n",
              "      <th>variance</th>\n",
              "      <th>skewness</th>\n",
              "      <th>curtosis</th>\n",
              "      <th>entropy</th>\n",
              "      <th>class</th>\n",
              "    </tr>\n",
              "  </thead>\n",
              "  <tbody>\n",
              "    <tr>\n",
              "      <th>0</th>\n",
              "      <td>0.769004</td>\n",
              "      <td>0.839643</td>\n",
              "      <td>0.106783</td>\n",
              "      <td>0.736628</td>\n",
              "      <td>0</td>\n",
              "    </tr>\n",
              "    <tr>\n",
              "      <th>1</th>\n",
              "      <td>0.835659</td>\n",
              "      <td>0.820982</td>\n",
              "      <td>0.121804</td>\n",
              "      <td>0.644326</td>\n",
              "      <td>0</td>\n",
              "    </tr>\n",
              "    <tr>\n",
              "      <th>2</th>\n",
              "      <td>0.786629</td>\n",
              "      <td>0.416648</td>\n",
              "      <td>0.310608</td>\n",
              "      <td>0.786951</td>\n",
              "      <td>0</td>\n",
              "    </tr>\n",
              "    <tr>\n",
              "      <th>3</th>\n",
              "      <td>0.757105</td>\n",
              "      <td>0.871699</td>\n",
              "      <td>0.054921</td>\n",
              "      <td>0.450440</td>\n",
              "      <td>0</td>\n",
              "    </tr>\n",
              "    <tr>\n",
              "      <th>4</th>\n",
              "      <td>0.531578</td>\n",
              "      <td>0.348662</td>\n",
              "      <td>0.424662</td>\n",
              "      <td>0.687362</td>\n",
              "      <td>0</td>\n",
              "    </tr>\n",
              "  </tbody>\n",
              "</table>\n",
              "</div>"
            ],
            "text/plain": [
              "   variance  skewness  curtosis   entropy  class\n",
              "0  0.769004  0.839643  0.106783  0.736628      0\n",
              "1  0.835659  0.820982  0.121804  0.644326      0\n",
              "2  0.786629  0.416648  0.310608  0.786951      0\n",
              "3  0.757105  0.871699  0.054921  0.450440      0\n",
              "4  0.531578  0.348662  0.424662  0.687362      0"
            ]
          },
          "metadata": {
            "tags": []
          },
          "execution_count": 11
        }
      ]
    },
    {
      "cell_type": "markdown",
      "metadata": {
        "id": "KQrSqeJrERG7"
      },
      "source": [
        "#### Splitting into training and test set:"
      ]
    },
    {
      "cell_type": "code",
      "metadata": {
        "id": "fwPhZJWwD_oW"
      },
      "source": [
        "x = BankDs.iloc[:,:-1]\n",
        "y = BankDs.iloc[:, -1]"
      ],
      "execution_count": 12,
      "outputs": []
    },
    {
      "cell_type": "code",
      "metadata": {
        "colab": {
          "base_uri": "https://localhost:8080/",
          "height": 206
        },
        "id": "QHo1EQ39Em8G",
        "outputId": "285d9c87-7990-4fc2-9106-1308ab4da59a"
      },
      "source": [
        "x.head()"
      ],
      "execution_count": 13,
      "outputs": [
        {
          "output_type": "execute_result",
          "data": {
            "text/html": [
              "<div>\n",
              "<style scoped>\n",
              "    .dataframe tbody tr th:only-of-type {\n",
              "        vertical-align: middle;\n",
              "    }\n",
              "\n",
              "    .dataframe tbody tr th {\n",
              "        vertical-align: top;\n",
              "    }\n",
              "\n",
              "    .dataframe thead th {\n",
              "        text-align: right;\n",
              "    }\n",
              "</style>\n",
              "<table border=\"1\" class=\"dataframe\">\n",
              "  <thead>\n",
              "    <tr style=\"text-align: right;\">\n",
              "      <th></th>\n",
              "      <th>variance</th>\n",
              "      <th>skewness</th>\n",
              "      <th>curtosis</th>\n",
              "      <th>entropy</th>\n",
              "    </tr>\n",
              "  </thead>\n",
              "  <tbody>\n",
              "    <tr>\n",
              "      <th>0</th>\n",
              "      <td>0.769004</td>\n",
              "      <td>0.839643</td>\n",
              "      <td>0.106783</td>\n",
              "      <td>0.736628</td>\n",
              "    </tr>\n",
              "    <tr>\n",
              "      <th>1</th>\n",
              "      <td>0.835659</td>\n",
              "      <td>0.820982</td>\n",
              "      <td>0.121804</td>\n",
              "      <td>0.644326</td>\n",
              "    </tr>\n",
              "    <tr>\n",
              "      <th>2</th>\n",
              "      <td>0.786629</td>\n",
              "      <td>0.416648</td>\n",
              "      <td>0.310608</td>\n",
              "      <td>0.786951</td>\n",
              "    </tr>\n",
              "    <tr>\n",
              "      <th>3</th>\n",
              "      <td>0.757105</td>\n",
              "      <td>0.871699</td>\n",
              "      <td>0.054921</td>\n",
              "      <td>0.450440</td>\n",
              "    </tr>\n",
              "    <tr>\n",
              "      <th>4</th>\n",
              "      <td>0.531578</td>\n",
              "      <td>0.348662</td>\n",
              "      <td>0.424662</td>\n",
              "      <td>0.687362</td>\n",
              "    </tr>\n",
              "  </tbody>\n",
              "</table>\n",
              "</div>"
            ],
            "text/plain": [
              "   variance  skewness  curtosis   entropy\n",
              "0  0.769004  0.839643  0.106783  0.736628\n",
              "1  0.835659  0.820982  0.121804  0.644326\n",
              "2  0.786629  0.416648  0.310608  0.786951\n",
              "3  0.757105  0.871699  0.054921  0.450440\n",
              "4  0.531578  0.348662  0.424662  0.687362"
            ]
          },
          "metadata": {
            "tags": []
          },
          "execution_count": 13
        }
      ]
    },
    {
      "cell_type": "code",
      "metadata": {
        "colab": {
          "base_uri": "https://localhost:8080/"
        },
        "id": "uP5Pjb-pEorQ",
        "outputId": "a6afa881-cebc-4222-f9a9-d751a031236d"
      },
      "source": [
        "y.head()"
      ],
      "execution_count": 14,
      "outputs": [
        {
          "output_type": "execute_result",
          "data": {
            "text/plain": [
              "0    0\n",
              "1    0\n",
              "2    0\n",
              "3    0\n",
              "4    0\n",
              "Name: class, dtype: int64"
            ]
          },
          "metadata": {
            "tags": []
          },
          "execution_count": 14
        }
      ]
    },
    {
      "cell_type": "code",
      "metadata": {
        "id": "PlSU3ugsEulr"
      },
      "source": [
        "from sklearn.model_selection import train_test_split\n",
        "x_train, x_test, y_train, y_test = train_test_split(x, y, test_size = 0.2, random_state = 0)"
      ],
      "execution_count": 15,
      "outputs": []
    },
    {
      "cell_type": "code",
      "metadata": {
        "colab": {
          "base_uri": "https://localhost:8080/"
        },
        "id": "18I_6MouFSCJ",
        "outputId": "107ee979-f526-4a16-9edd-f5205dff8d36"
      },
      "source": [
        "x_train.shape"
      ],
      "execution_count": 16,
      "outputs": [
        {
          "output_type": "execute_result",
          "data": {
            "text/plain": [
              "(1097, 4)"
            ]
          },
          "metadata": {
            "tags": []
          },
          "execution_count": 16
        }
      ]
    },
    {
      "cell_type": "code",
      "metadata": {
        "colab": {
          "base_uri": "https://localhost:8080/"
        },
        "id": "fx2YdTQvFXAA",
        "outputId": "4d71b37b-d593-4d48-b92c-b37a65122c9c"
      },
      "source": [
        "y_train.shape"
      ],
      "execution_count": 17,
      "outputs": [
        {
          "output_type": "execute_result",
          "data": {
            "text/plain": [
              "(1097,)"
            ]
          },
          "metadata": {
            "tags": []
          },
          "execution_count": 17
        }
      ]
    },
    {
      "cell_type": "markdown",
      "metadata": {
        "id": "d6sfhaWDFmM7"
      },
      "source": [
        "#### Artificial Neural Network model definition"
      ]
    },
    {
      "cell_type": "code",
      "metadata": {
        "id": "bFqJXbuHFaZx"
      },
      "source": [
        "model = keras.Sequential([layers.Dense(units = 8, activation = 'relu'),\n",
        "                          layers.Dense(units = 32, activation = 'relu'),\n",
        "                          layers.Dense(units = 1, activation = 'sigmoid')])"
      ],
      "execution_count": 18,
      "outputs": []
    },
    {
      "cell_type": "markdown",
      "metadata": {
        "id": "4IhWG0JCItB9"
      },
      "source": [
        "#### Compiling the model:"
      ]
    },
    {
      "cell_type": "code",
      "metadata": {
        "id": "_lX8Y7pgIZzB"
      },
      "source": [
        "model.compile(\n",
        "    optimizer='adam',\n",
        "    loss='binary_crossentropy',\n",
        "    metrics=['accuracy']\n",
        "    )"
      ],
      "execution_count": 19,
      "outputs": []
    },
    {
      "cell_type": "code",
      "metadata": {
        "colab": {
          "base_uri": "https://localhost:8080/"
        },
        "id": "5LGYpwBqKQQ9",
        "outputId": "8acdeb2e-e905-42a1-fbca-3e42543da41b"
      },
      "source": [
        "history = model.fit(x_train, y_train, validation_data = (x_test, y_test), epochs = 100)"
      ],
      "execution_count": 20,
      "outputs": [
        {
          "output_type": "stream",
          "text": [
            "Epoch 1/100\n",
            "35/35 [==============================] - 1s 10ms/step - loss: 0.7038 - accuracy: 0.4594 - val_loss: 0.6887 - val_accuracy: 0.5527\n",
            "Epoch 2/100\n",
            "35/35 [==============================] - 0s 4ms/step - loss: 0.6826 - accuracy: 0.5497 - val_loss: 0.6729 - val_accuracy: 0.5709\n",
            "Epoch 3/100\n",
            "35/35 [==============================] - 0s 4ms/step - loss: 0.6723 - accuracy: 0.5533 - val_loss: 0.6631 - val_accuracy: 0.5818\n",
            "Epoch 4/100\n",
            "35/35 [==============================] - 0s 4ms/step - loss: 0.6635 - accuracy: 0.5688 - val_loss: 0.6512 - val_accuracy: 0.6073\n",
            "Epoch 5/100\n",
            "35/35 [==============================] - 0s 5ms/step - loss: 0.6529 - accuracy: 0.6044 - val_loss: 0.6366 - val_accuracy: 0.6509\n",
            "Epoch 6/100\n",
            "35/35 [==============================] - 0s 4ms/step - loss: 0.6392 - accuracy: 0.6390 - val_loss: 0.6201 - val_accuracy: 0.6727\n",
            "Epoch 7/100\n",
            "35/35 [==============================] - 0s 5ms/step - loss: 0.6234 - accuracy: 0.6755 - val_loss: 0.6013 - val_accuracy: 0.6909\n",
            "Epoch 8/100\n",
            "35/35 [==============================] - 0s 4ms/step - loss: 0.6000 - accuracy: 0.6974 - val_loss: 0.5684 - val_accuracy: 0.7273\n",
            "Epoch 9/100\n",
            "35/35 [==============================] - 0s 4ms/step - loss: 0.5726 - accuracy: 0.7201 - val_loss: 0.5424 - val_accuracy: 0.7418\n",
            "Epoch 10/100\n",
            "35/35 [==============================] - 0s 4ms/step - loss: 0.5490 - accuracy: 0.7402 - val_loss: 0.5183 - val_accuracy: 0.7636\n",
            "Epoch 11/100\n",
            "35/35 [==============================] - 0s 4ms/step - loss: 0.5274 - accuracy: 0.7539 - val_loss: 0.4982 - val_accuracy: 0.7964\n",
            "Epoch 12/100\n",
            "35/35 [==============================] - 0s 4ms/step - loss: 0.5070 - accuracy: 0.7712 - val_loss: 0.4772 - val_accuracy: 0.8145\n",
            "Epoch 13/100\n",
            "35/35 [==============================] - 0s 4ms/step - loss: 0.4860 - accuracy: 0.7758 - val_loss: 0.4534 - val_accuracy: 0.8182\n",
            "Epoch 14/100\n",
            "35/35 [==============================] - 0s 4ms/step - loss: 0.4612 - accuracy: 0.7903 - val_loss: 0.4293 - val_accuracy: 0.8255\n",
            "Epoch 15/100\n",
            "35/35 [==============================] - 0s 4ms/step - loss: 0.4306 - accuracy: 0.8250 - val_loss: 0.3953 - val_accuracy: 0.8582\n",
            "Epoch 16/100\n",
            "35/35 [==============================] - 0s 4ms/step - loss: 0.3938 - accuracy: 0.8478 - val_loss: 0.3561 - val_accuracy: 0.8800\n",
            "Epoch 17/100\n",
            "35/35 [==============================] - 0s 4ms/step - loss: 0.3556 - accuracy: 0.8788 - val_loss: 0.3269 - val_accuracy: 0.8982\n",
            "Epoch 18/100\n",
            "35/35 [==============================] - 0s 4ms/step - loss: 0.3233 - accuracy: 0.8979 - val_loss: 0.2906 - val_accuracy: 0.9091\n",
            "Epoch 19/100\n",
            "35/35 [==============================] - 0s 5ms/step - loss: 0.2873 - accuracy: 0.9325 - val_loss: 0.2607 - val_accuracy: 0.9236\n",
            "Epoch 20/100\n",
            "35/35 [==============================] - 0s 4ms/step - loss: 0.2588 - accuracy: 0.9417 - val_loss: 0.2315 - val_accuracy: 0.9309\n",
            "Epoch 21/100\n",
            "35/35 [==============================] - 0s 5ms/step - loss: 0.2330 - accuracy: 0.9490 - val_loss: 0.2073 - val_accuracy: 0.9418\n",
            "Epoch 22/100\n",
            "35/35 [==============================] - 0s 4ms/step - loss: 0.2094 - accuracy: 0.9535 - val_loss: 0.1850 - val_accuracy: 0.9600\n",
            "Epoch 23/100\n",
            "35/35 [==============================] - 0s 4ms/step - loss: 0.1908 - accuracy: 0.9590 - val_loss: 0.1651 - val_accuracy: 0.9709\n",
            "Epoch 24/100\n",
            "35/35 [==============================] - 0s 4ms/step - loss: 0.1716 - accuracy: 0.9654 - val_loss: 0.1492 - val_accuracy: 0.9745\n",
            "Epoch 25/100\n",
            "35/35 [==============================] - 0s 4ms/step - loss: 0.1567 - accuracy: 0.9681 - val_loss: 0.1353 - val_accuracy: 0.9745\n",
            "Epoch 26/100\n",
            "35/35 [==============================] - 0s 4ms/step - loss: 0.1433 - accuracy: 0.9717 - val_loss: 0.1237 - val_accuracy: 0.9745\n",
            "Epoch 27/100\n",
            "35/35 [==============================] - 0s 4ms/step - loss: 0.1321 - accuracy: 0.9699 - val_loss: 0.1127 - val_accuracy: 0.9818\n",
            "Epoch 28/100\n",
            "35/35 [==============================] - 0s 4ms/step - loss: 0.1226 - accuracy: 0.9717 - val_loss: 0.1033 - val_accuracy: 0.9891\n",
            "Epoch 29/100\n",
            "35/35 [==============================] - 0s 4ms/step - loss: 0.1134 - accuracy: 0.9727 - val_loss: 0.0970 - val_accuracy: 0.9927\n",
            "Epoch 30/100\n",
            "35/35 [==============================] - 0s 4ms/step - loss: 0.1063 - accuracy: 0.9772 - val_loss: 0.0892 - val_accuracy: 0.9927\n",
            "Epoch 31/100\n",
            "35/35 [==============================] - 0s 4ms/step - loss: 0.0996 - accuracy: 0.9799 - val_loss: 0.0831 - val_accuracy: 0.9927\n",
            "Epoch 32/100\n",
            "35/35 [==============================] - 0s 4ms/step - loss: 0.0937 - accuracy: 0.9809 - val_loss: 0.0770 - val_accuracy: 0.9927\n",
            "Epoch 33/100\n",
            "35/35 [==============================] - 0s 4ms/step - loss: 0.0893 - accuracy: 0.9827 - val_loss: 0.0729 - val_accuracy: 0.9964\n",
            "Epoch 34/100\n",
            "35/35 [==============================] - 0s 4ms/step - loss: 0.0852 - accuracy: 0.9836 - val_loss: 0.0676 - val_accuracy: 0.9964\n",
            "Epoch 35/100\n",
            "35/35 [==============================] - 0s 4ms/step - loss: 0.0794 - accuracy: 0.9854 - val_loss: 0.0635 - val_accuracy: 0.9964\n",
            "Epoch 36/100\n",
            "35/35 [==============================] - 0s 4ms/step - loss: 0.0755 - accuracy: 0.9854 - val_loss: 0.0614 - val_accuracy: 0.9927\n",
            "Epoch 37/100\n",
            "35/35 [==============================] - 0s 4ms/step - loss: 0.0742 - accuracy: 0.9845 - val_loss: 0.0579 - val_accuracy: 0.9964\n",
            "Epoch 38/100\n",
            "35/35 [==============================] - 0s 4ms/step - loss: 0.0694 - accuracy: 0.9872 - val_loss: 0.0545 - val_accuracy: 0.9964\n",
            "Epoch 39/100\n",
            "35/35 [==============================] - 0s 4ms/step - loss: 0.0661 - accuracy: 0.9863 - val_loss: 0.0514 - val_accuracy: 0.9964\n",
            "Epoch 40/100\n",
            "35/35 [==============================] - 0s 4ms/step - loss: 0.0644 - accuracy: 0.9854 - val_loss: 0.0486 - val_accuracy: 0.9964\n",
            "Epoch 41/100\n",
            "35/35 [==============================] - 0s 4ms/step - loss: 0.0609 - accuracy: 0.9881 - val_loss: 0.0464 - val_accuracy: 0.9964\n",
            "Epoch 42/100\n",
            "35/35 [==============================] - 0s 4ms/step - loss: 0.0587 - accuracy: 0.9881 - val_loss: 0.0444 - val_accuracy: 0.9964\n",
            "Epoch 43/100\n",
            "35/35 [==============================] - 0s 4ms/step - loss: 0.0584 - accuracy: 0.9891 - val_loss: 0.0424 - val_accuracy: 0.9964\n",
            "Epoch 44/100\n",
            "35/35 [==============================] - 0s 4ms/step - loss: 0.0552 - accuracy: 0.9881 - val_loss: 0.0417 - val_accuracy: 1.0000\n",
            "Epoch 45/100\n",
            "35/35 [==============================] - 0s 4ms/step - loss: 0.0529 - accuracy: 0.9881 - val_loss: 0.0407 - val_accuracy: 1.0000\n",
            "Epoch 46/100\n",
            "35/35 [==============================] - 0s 4ms/step - loss: 0.0510 - accuracy: 0.9909 - val_loss: 0.0378 - val_accuracy: 0.9964\n",
            "Epoch 47/100\n",
            "35/35 [==============================] - 0s 4ms/step - loss: 0.0507 - accuracy: 0.9891 - val_loss: 0.0362 - val_accuracy: 0.9964\n",
            "Epoch 48/100\n",
            "35/35 [==============================] - 0s 4ms/step - loss: 0.0485 - accuracy: 0.9891 - val_loss: 0.0358 - val_accuracy: 1.0000\n",
            "Epoch 49/100\n",
            "35/35 [==============================] - 0s 4ms/step - loss: 0.0461 - accuracy: 0.9918 - val_loss: 0.0335 - val_accuracy: 0.9964\n",
            "Epoch 50/100\n",
            "35/35 [==============================] - 0s 4ms/step - loss: 0.0464 - accuracy: 0.9927 - val_loss: 0.0322 - val_accuracy: 0.9964\n",
            "Epoch 51/100\n",
            "35/35 [==============================] - 0s 4ms/step - loss: 0.0445 - accuracy: 0.9909 - val_loss: 0.0348 - val_accuracy: 1.0000\n",
            "Epoch 52/100\n",
            "35/35 [==============================] - 0s 4ms/step - loss: 0.0434 - accuracy: 0.9909 - val_loss: 0.0324 - val_accuracy: 1.0000\n",
            "Epoch 53/100\n",
            "35/35 [==============================] - 0s 4ms/step - loss: 0.0421 - accuracy: 0.9909 - val_loss: 0.0293 - val_accuracy: 0.9964\n",
            "Epoch 54/100\n",
            "35/35 [==============================] - 0s 4ms/step - loss: 0.0406 - accuracy: 0.9900 - val_loss: 0.0306 - val_accuracy: 1.0000\n",
            "Epoch 55/100\n",
            "35/35 [==============================] - 0s 4ms/step - loss: 0.0404 - accuracy: 0.9936 - val_loss: 0.0277 - val_accuracy: 1.0000\n",
            "Epoch 56/100\n",
            "35/35 [==============================] - 0s 5ms/step - loss: 0.0387 - accuracy: 0.9936 - val_loss: 0.0277 - val_accuracy: 1.0000\n",
            "Epoch 57/100\n",
            "35/35 [==============================] - 0s 4ms/step - loss: 0.0379 - accuracy: 0.9927 - val_loss: 0.0260 - val_accuracy: 1.0000\n",
            "Epoch 58/100\n",
            "35/35 [==============================] - 0s 4ms/step - loss: 0.0369 - accuracy: 0.9918 - val_loss: 0.0263 - val_accuracy: 1.0000\n",
            "Epoch 59/100\n",
            "35/35 [==============================] - 0s 5ms/step - loss: 0.0359 - accuracy: 0.9927 - val_loss: 0.0242 - val_accuracy: 0.9964\n",
            "Epoch 60/100\n",
            "35/35 [==============================] - 0s 4ms/step - loss: 0.0363 - accuracy: 0.9954 - val_loss: 0.0237 - val_accuracy: 0.9964\n",
            "Epoch 61/100\n",
            "35/35 [==============================] - 0s 4ms/step - loss: 0.0354 - accuracy: 0.9918 - val_loss: 0.0254 - val_accuracy: 1.0000\n",
            "Epoch 62/100\n",
            "35/35 [==============================] - 0s 4ms/step - loss: 0.0338 - accuracy: 0.9945 - val_loss: 0.0226 - val_accuracy: 1.0000\n",
            "Epoch 63/100\n",
            "35/35 [==============================] - 0s 4ms/step - loss: 0.0335 - accuracy: 0.9936 - val_loss: 0.0218 - val_accuracy: 0.9964\n",
            "Epoch 64/100\n",
            "35/35 [==============================] - 0s 4ms/step - loss: 0.0333 - accuracy: 0.9936 - val_loss: 0.0216 - val_accuracy: 1.0000\n",
            "Epoch 65/100\n",
            "35/35 [==============================] - 0s 4ms/step - loss: 0.0319 - accuracy: 0.9936 - val_loss: 0.0217 - val_accuracy: 1.0000\n",
            "Epoch 66/100\n",
            "35/35 [==============================] - 0s 4ms/step - loss: 0.0308 - accuracy: 0.9945 - val_loss: 0.0203 - val_accuracy: 1.0000\n",
            "Epoch 67/100\n",
            "35/35 [==============================] - 0s 5ms/step - loss: 0.0305 - accuracy: 0.9954 - val_loss: 0.0198 - val_accuracy: 1.0000\n",
            "Epoch 68/100\n",
            "35/35 [==============================] - 0s 4ms/step - loss: 0.0302 - accuracy: 0.9964 - val_loss: 0.0198 - val_accuracy: 1.0000\n",
            "Epoch 69/100\n",
            "35/35 [==============================] - 0s 5ms/step - loss: 0.0313 - accuracy: 0.9936 - val_loss: 0.0190 - val_accuracy: 0.9964\n",
            "Epoch 70/100\n",
            "35/35 [==============================] - 0s 4ms/step - loss: 0.0295 - accuracy: 0.9945 - val_loss: 0.0188 - val_accuracy: 0.9964\n",
            "Epoch 71/100\n",
            "35/35 [==============================] - 0s 4ms/step - loss: 0.0299 - accuracy: 0.9936 - val_loss: 0.0194 - val_accuracy: 1.0000\n",
            "Epoch 72/100\n",
            "35/35 [==============================] - 0s 4ms/step - loss: 0.0284 - accuracy: 0.9945 - val_loss: 0.0186 - val_accuracy: 1.0000\n",
            "Epoch 73/100\n",
            "35/35 [==============================] - 0s 4ms/step - loss: 0.0277 - accuracy: 0.9964 - val_loss: 0.0176 - val_accuracy: 1.0000\n",
            "Epoch 74/100\n",
            "35/35 [==============================] - 0s 4ms/step - loss: 0.0271 - accuracy: 0.9945 - val_loss: 0.0175 - val_accuracy: 1.0000\n",
            "Epoch 75/100\n",
            "35/35 [==============================] - 0s 4ms/step - loss: 0.0266 - accuracy: 0.9964 - val_loss: 0.0169 - val_accuracy: 1.0000\n",
            "Epoch 76/100\n",
            "35/35 [==============================] - 0s 4ms/step - loss: 0.0262 - accuracy: 0.9954 - val_loss: 0.0165 - val_accuracy: 1.0000\n",
            "Epoch 77/100\n",
            "35/35 [==============================] - 0s 4ms/step - loss: 0.0257 - accuracy: 0.9964 - val_loss: 0.0175 - val_accuracy: 1.0000\n",
            "Epoch 78/100\n",
            "35/35 [==============================] - 0s 4ms/step - loss: 0.0268 - accuracy: 0.9945 - val_loss: 0.0168 - val_accuracy: 1.0000\n",
            "Epoch 79/100\n",
            "35/35 [==============================] - 0s 5ms/step - loss: 0.0248 - accuracy: 0.9973 - val_loss: 0.0160 - val_accuracy: 1.0000\n",
            "Epoch 80/100\n",
            "35/35 [==============================] - 0s 4ms/step - loss: 0.0246 - accuracy: 0.9964 - val_loss: 0.0159 - val_accuracy: 1.0000\n",
            "Epoch 81/100\n",
            "35/35 [==============================] - 0s 4ms/step - loss: 0.0241 - accuracy: 0.9973 - val_loss: 0.0151 - val_accuracy: 1.0000\n",
            "Epoch 82/100\n",
            "35/35 [==============================] - 0s 4ms/step - loss: 0.0242 - accuracy: 0.9936 - val_loss: 0.0155 - val_accuracy: 1.0000\n",
            "Epoch 83/100\n",
            "35/35 [==============================] - 0s 4ms/step - loss: 0.0237 - accuracy: 0.9964 - val_loss: 0.0156 - val_accuracy: 1.0000\n",
            "Epoch 84/100\n",
            "35/35 [==============================] - 0s 4ms/step - loss: 0.0229 - accuracy: 0.9973 - val_loss: 0.0146 - val_accuracy: 1.0000\n",
            "Epoch 85/100\n",
            "35/35 [==============================] - 0s 4ms/step - loss: 0.0229 - accuracy: 0.9964 - val_loss: 0.0148 - val_accuracy: 1.0000\n",
            "Epoch 86/100\n",
            "35/35 [==============================] - 0s 4ms/step - loss: 0.0227 - accuracy: 0.9964 - val_loss: 0.0155 - val_accuracy: 1.0000\n",
            "Epoch 87/100\n",
            "35/35 [==============================] - 0s 4ms/step - loss: 0.0235 - accuracy: 0.9954 - val_loss: 0.0168 - val_accuracy: 1.0000\n",
            "Epoch 88/100\n",
            "35/35 [==============================] - 0s 4ms/step - loss: 0.0225 - accuracy: 0.9954 - val_loss: 0.0141 - val_accuracy: 1.0000\n",
            "Epoch 89/100\n",
            "35/35 [==============================] - 0s 4ms/step - loss: 0.0212 - accuracy: 0.9973 - val_loss: 0.0133 - val_accuracy: 1.0000\n",
            "Epoch 90/100\n",
            "35/35 [==============================] - 0s 4ms/step - loss: 0.0210 - accuracy: 0.9964 - val_loss: 0.0149 - val_accuracy: 1.0000\n",
            "Epoch 91/100\n",
            "35/35 [==============================] - 0s 4ms/step - loss: 0.0222 - accuracy: 0.9973 - val_loss: 0.0130 - val_accuracy: 1.0000\n",
            "Epoch 92/100\n",
            "35/35 [==============================] - 0s 4ms/step - loss: 0.0209 - accuracy: 0.9973 - val_loss: 0.0131 - val_accuracy: 1.0000\n",
            "Epoch 93/100\n",
            "35/35 [==============================] - 0s 4ms/step - loss: 0.0211 - accuracy: 0.9954 - val_loss: 0.0132 - val_accuracy: 1.0000\n",
            "Epoch 94/100\n",
            "35/35 [==============================] - 0s 5ms/step - loss: 0.0208 - accuracy: 0.9973 - val_loss: 0.0128 - val_accuracy: 1.0000\n",
            "Epoch 95/100\n",
            "35/35 [==============================] - 0s 5ms/step - loss: 0.0202 - accuracy: 0.9973 - val_loss: 0.0124 - val_accuracy: 1.0000\n",
            "Epoch 96/100\n",
            "35/35 [==============================] - 0s 4ms/step - loss: 0.0228 - accuracy: 0.9909 - val_loss: 0.0120 - val_accuracy: 1.0000\n",
            "Epoch 97/100\n",
            "35/35 [==============================] - 0s 4ms/step - loss: 0.0207 - accuracy: 0.9973 - val_loss: 0.0121 - val_accuracy: 1.0000\n",
            "Epoch 98/100\n",
            "35/35 [==============================] - 0s 5ms/step - loss: 0.0198 - accuracy: 0.9973 - val_loss: 0.0117 - val_accuracy: 1.0000\n",
            "Epoch 99/100\n",
            "35/35 [==============================] - 0s 4ms/step - loss: 0.0206 - accuracy: 0.9964 - val_loss: 0.0156 - val_accuracy: 1.0000\n",
            "Epoch 100/100\n",
            "35/35 [==============================] - 0s 4ms/step - loss: 0.0189 - accuracy: 0.9964 - val_loss: 0.0114 - val_accuracy: 1.0000\n"
          ],
          "name": "stdout"
        }
      ]
    },
    {
      "cell_type": "code",
      "metadata": {
        "colab": {
          "base_uri": "https://localhost:8080/"
        },
        "id": "lvIoPRevSXWl",
        "outputId": "a2d81fb9-1660-4b91-d508-4e0d3e5cbcd2"
      },
      "source": [
        "model.summary()"
      ],
      "execution_count": 21,
      "outputs": [
        {
          "output_type": "stream",
          "text": [
            "Model: \"sequential\"\n",
            "_________________________________________________________________\n",
            "Layer (type)                 Output Shape              Param #   \n",
            "=================================================================\n",
            "dense (Dense)                (None, 8)                 40        \n",
            "_________________________________________________________________\n",
            "dense_1 (Dense)              (None, 32)                288       \n",
            "_________________________________________________________________\n",
            "dense_2 (Dense)              (None, 1)                 33        \n",
            "=================================================================\n",
            "Total params: 361\n",
            "Trainable params: 361\n",
            "Non-trainable params: 0\n",
            "_________________________________________________________________\n"
          ],
          "name": "stdout"
        }
      ]
    },
    {
      "cell_type": "code",
      "metadata": {
        "id": "8m-tTUmaQmYo"
      },
      "source": [
        "y_pred = model.predict(x_test)"
      ],
      "execution_count": 22,
      "outputs": []
    },
    {
      "cell_type": "code",
      "metadata": {
        "colab": {
          "base_uri": "https://localhost:8080/"
        },
        "id": "Yu9ZCJsWRLYP",
        "outputId": "19bc04d0-52a3-4f4b-9c51-b0e61971230a"
      },
      "source": [
        "y_pr = []\n",
        "\n",
        "for i in y_pred:\n",
        "  if i >= 0.5:\n",
        "    y_pr.append(1)\n",
        "  else:\n",
        "    y_pr.append(0)  \n",
        "\n",
        "print(y_pr)"
      ],
      "execution_count": 23,
      "outputs": [
        {
          "output_type": "stream",
          "text": [
            "[1, 0, 1, 0, 0, 0, 0, 0, 1, 1, 0, 0, 1, 0, 0, 0, 1, 1, 0, 0, 1, 0, 0, 1, 0, 1, 0, 1, 0, 0, 1, 0, 1, 1, 1, 0, 0, 1, 0, 1, 0, 1, 0, 0, 1, 1, 0, 0, 1, 0, 0, 1, 0, 1, 1, 0, 1, 1, 0, 1, 1, 0, 0, 0, 0, 1, 1, 1, 1, 0, 1, 0, 1, 0, 0, 1, 0, 0, 0, 0, 1, 1, 0, 0, 1, 1, 0, 0, 0, 0, 0, 1, 1, 1, 1, 0, 0, 0, 1, 1, 0, 1, 0, 0, 0, 1, 0, 1, 1, 1, 0, 1, 0, 0, 1, 0, 0, 0, 1, 1, 0, 0, 1, 1, 1, 1, 1, 0, 1, 0, 0, 0, 0, 0, 0, 1, 0, 0, 0, 0, 1, 0, 1, 1, 0, 0, 1, 0, 0, 1, 0, 0, 0, 0, 1, 0, 1, 0, 1, 0, 0, 1, 0, 1, 0, 1, 1, 0, 1, 1, 0, 1, 1, 1, 1, 0, 0, 0, 1, 1, 0, 1, 0, 0, 0, 1, 0, 1, 1, 0, 0, 0, 1, 0, 1, 0, 0, 0, 1, 1, 0, 0, 0, 0, 0, 0, 0, 0, 1, 0, 0, 1, 0, 0, 0, 1, 1, 0, 0, 0, 0, 0, 0, 0, 0, 1, 1, 0, 0, 0, 0, 1, 1, 0, 1, 1, 0, 0, 1, 1, 0, 1, 1, 0, 1, 0, 0, 0, 0, 0, 0, 1, 0, 1, 1, 0, 0, 1, 1, 1, 0, 0, 0, 1, 0, 0, 1, 1, 0, 1, 1, 0, 1, 1, 1]\n"
          ],
          "name": "stdout"
        }
      ]
    },
    {
      "cell_type": "code",
      "metadata": {
        "colab": {
          "base_uri": "https://localhost:8080/"
        },
        "id": "NngAxNH8RDd1",
        "outputId": "664a37ba-2d48-433a-dd44-656b2f6cbe6c"
      },
      "source": [
        "y_test"
      ],
      "execution_count": 24,
      "outputs": [
        {
          "output_type": "execute_result",
          "data": {
            "text/plain": [
              "1023    1\n",
              "642     0\n",
              "1196    1\n",
              "31      0\n",
              "253     0\n",
              "       ..\n",
              "1342    1\n",
              "251     0\n",
              "1256    1\n",
              "966     1\n",
              "1096    1\n",
              "Name: class, Length: 275, dtype: int64"
            ]
          },
          "metadata": {
            "tags": []
          },
          "execution_count": 24
        }
      ]
    },
    {
      "cell_type": "code",
      "metadata": {
        "id": "7Uf7eHNYnC3u"
      },
      "source": [
        "history_df = pd.DataFrame(history.history)"
      ],
      "execution_count": 25,
      "outputs": []
    },
    {
      "cell_type": "code",
      "metadata": {
        "colab": {
          "base_uri": "https://localhost:8080/",
          "height": 206
        },
        "id": "iPFgCuSQnL8X",
        "outputId": "55a54ee6-5307-442f-e120-a991714554d6"
      },
      "source": [
        "history_df.head()"
      ],
      "execution_count": 26,
      "outputs": [
        {
          "output_type": "execute_result",
          "data": {
            "text/html": [
              "<div>\n",
              "<style scoped>\n",
              "    .dataframe tbody tr th:only-of-type {\n",
              "        vertical-align: middle;\n",
              "    }\n",
              "\n",
              "    .dataframe tbody tr th {\n",
              "        vertical-align: top;\n",
              "    }\n",
              "\n",
              "    .dataframe thead th {\n",
              "        text-align: right;\n",
              "    }\n",
              "</style>\n",
              "<table border=\"1\" class=\"dataframe\">\n",
              "  <thead>\n",
              "    <tr style=\"text-align: right;\">\n",
              "      <th></th>\n",
              "      <th>loss</th>\n",
              "      <th>accuracy</th>\n",
              "      <th>val_loss</th>\n",
              "      <th>val_accuracy</th>\n",
              "    </tr>\n",
              "  </thead>\n",
              "  <tbody>\n",
              "    <tr>\n",
              "      <th>0</th>\n",
              "      <td>0.703831</td>\n",
              "      <td>0.459435</td>\n",
              "      <td>0.688672</td>\n",
              "      <td>0.552727</td>\n",
              "    </tr>\n",
              "    <tr>\n",
              "      <th>1</th>\n",
              "      <td>0.682619</td>\n",
              "      <td>0.549681</td>\n",
              "      <td>0.672858</td>\n",
              "      <td>0.570909</td>\n",
              "    </tr>\n",
              "    <tr>\n",
              "      <th>2</th>\n",
              "      <td>0.672316</td>\n",
              "      <td>0.553327</td>\n",
              "      <td>0.663136</td>\n",
              "      <td>0.581818</td>\n",
              "    </tr>\n",
              "    <tr>\n",
              "      <th>3</th>\n",
              "      <td>0.663453</td>\n",
              "      <td>0.568824</td>\n",
              "      <td>0.651194</td>\n",
              "      <td>0.607273</td>\n",
              "    </tr>\n",
              "    <tr>\n",
              "      <th>4</th>\n",
              "      <td>0.652931</td>\n",
              "      <td>0.604376</td>\n",
              "      <td>0.636567</td>\n",
              "      <td>0.650909</td>\n",
              "    </tr>\n",
              "  </tbody>\n",
              "</table>\n",
              "</div>"
            ],
            "text/plain": [
              "       loss  accuracy  val_loss  val_accuracy\n",
              "0  0.703831  0.459435  0.688672      0.552727\n",
              "1  0.682619  0.549681  0.672858      0.570909\n",
              "2  0.672316  0.553327  0.663136      0.581818\n",
              "3  0.663453  0.568824  0.651194      0.607273\n",
              "4  0.652931  0.604376  0.636567      0.650909"
            ]
          },
          "metadata": {
            "tags": []
          },
          "execution_count": 26
        }
      ]
    },
    {
      "cell_type": "markdown",
      "metadata": {
        "id": "4uVi0BJVoKTf"
      },
      "source": [
        "#### Train vs Test loss for each epoch:"
      ]
    },
    {
      "cell_type": "code",
      "metadata": {
        "colab": {
          "base_uri": "https://localhost:8080/",
          "height": 283
        },
        "id": "Z9ADYybco-k-",
        "outputId": "34072d58-1367-427e-823b-e99dd7f3a27c"
      },
      "source": [
        "history_df.loc[:, ['loss', 'val_loss']].plot()"
      ],
      "execution_count": 27,
      "outputs": [
        {
          "output_type": "execute_result",
          "data": {
            "text/plain": [
              "<matplotlib.axes._subplots.AxesSubplot at 0x7f4ce017c910>"
            ]
          },
          "metadata": {
            "tags": []
          },
          "execution_count": 27
        },
        {
          "output_type": "display_data",
          "data": {
            "image/png": "[encoded data removed]",
            "text/plain": [
              "<Figure size 432x288 with 1 Axes>"
            ]
          },
          "metadata": {
            "tags": [],
            "needs_background": "light"
          }
        }
      ]
    },
    {
      "cell_type": "markdown",
      "metadata": {
        "id": "Er9d_2vmqRwK"
      },
      "source": [
        "#### Train vs Test accuracy for each epoch"
      ]
    },
    {
      "cell_type": "code",
      "metadata": {
        "colab": {
          "base_uri": "https://localhost:8080/",
          "height": 283
        },
        "id": "wC7P6BvYpzKP",
        "outputId": "838ed5f3-a5d7-4615-c51d-3fc552251ce4"
      },
      "source": [
        "history_df.loc[:,['accuracy', 'val_accuracy']].plot()"
      ],
      "execution_count": 28,
      "outputs": [
        {
          "output_type": "execute_result",
          "data": {
            "text/plain": [
              "<matplotlib.axes._subplots.AxesSubplot at 0x7f4ce0054990>"
            ]
          },
          "metadata": {
            "tags": []
          },
          "execution_count": 28
        },
        {
          "output_type": "display_data",
          "data": {
            "image/png": "[encoded data removed]",
            "text/plain": [
              "<Figure size 432x288 with 1 Axes>"
            ]
          },
          "metadata": {
            "tags": [],
            "needs_background": "light"
          }
        }
      ]
    },
    {
      "cell_type": "markdown",
      "metadata": {
        "id": "8tHkX2FGqbKc"
      },
      "source": [
        "#### Loss function plot:"
      ]
    },
    {
      "cell_type": "markdown",
      "metadata": {
        "id": "wLsT22y25HU8"
      },
      "source": [
        "#### Showing final weights and biases"
      ]
    },
    {
      "cell_type": "code",
      "metadata": {
        "id": "J1K1AN_5xZBD"
      },
      "source": [
        "first_layer_weights = model.layers[0].get_weights()[0]\n",
        "first_layer_biases  = model.layers[0].get_weights()[1]\n",
        "second_layer_weights = model.layers[1].get_weights()[0]\n",
        "second_layer_biases  = model.layers[1].get_weights()[1]\n",
        "third_layer_weights = model.layers[2].get_weights()[0]\n",
        "third_layer_biases = model.layers[2].get_weights()[1]"
      ],
      "execution_count": 29,
      "outputs": []
    },
    {
      "cell_type": "code",
      "metadata": {
        "colab": {
          "base_uri": "https://localhost:8080/"
        },
        "id": "1J8s0RMs7Mar",
        "outputId": "0ec0f32c-4c3b-4359-8ff1-b8f181f318dd"
      },
      "source": [
        "first_layer_weights"
      ],
      "execution_count": 30,
      "outputs": [
        {
          "output_type": "execute_result",
          "data": {
            "text/plain": [
              "array([[ 1.3383528 ,  0.33881474, -0.50308   , -0.62894005, -0.72815233,\n",
              "        -0.1493494 ,  0.82648975, -0.18323195],\n",
              "       [ 0.8085133 ,  1.0598938 ,  0.19158506, -0.26096922, -0.3517919 ,\n",
              "        -0.14548267,  1.1412728 ,  0.32624432],\n",
              "       [ 1.0348297 ,  0.84036845, -0.32294708,  0.35300022,  0.5121269 ,\n",
              "        -0.9048437 ,  1.2211161 , -1.6454482 ],\n",
              "       [ 0.4182663 , -0.546744  , -0.24304754, -0.54168475,  0.15560824,\n",
              "         0.7381594 ,  0.40270826, -0.13225245]], dtype=float32)"
            ]
          },
          "metadata": {
            "tags": []
          },
          "execution_count": 30
        }
      ]
    },
    {
      "cell_type": "code",
      "metadata": {
        "colab": {
          "base_uri": "https://localhost:8080/"
        },
        "id": "cyjnb2LX8VIm",
        "outputId": "4acd7f68-aadb-47df-ef74-38519ff44d52"
      },
      "source": [
        "second_layer_weights"
      ],
      "execution_count": 31,
      "outputs": [
        {
          "output_type": "execute_result",
          "data": {
            "text/plain": [
              "array([[-0.12020552,  0.6883974 ,  0.2711711 ,  0.28089172, -0.69620097,\n",
              "        -0.21268953, -0.1625295 , -0.34328294,  0.7256889 , -0.5262525 ,\n",
              "        -0.38269293, -0.17367946, -0.10957348,  0.66947716, -0.04710722,\n",
              "         0.00605708, -0.44595775, -0.27174932, -0.25095788, -0.21667796,\n",
              "        -0.22475748,  0.7331723 , -0.19197205, -0.39935723, -0.07442494,\n",
              "        -0.25170666, -0.3467359 ,  0.1224074 ,  0.2565506 , -0.34545505,\n",
              "        -0.07624209, -0.28067154],\n",
              "       [-1.1277536 ,  0.82734674,  0.01100315, -0.3361853 , -0.9164925 ,\n",
              "        -0.9753223 , -0.15199934,  0.09677657,  1.482449  , -0.89472663,\n",
              "        -0.31112856,  0.11964482, -0.32360917,  0.92922866,  0.12687975,\n",
              "        -0.33123344, -1.1026812 , -0.31131607, -0.279729  , -0.1631635 ,\n",
              "        -0.09627646,  1.3458846 , -0.6338842 ,  0.15322386,  0.16067566,\n",
              "        -0.16641596, -0.09732848,  0.14912347,  0.07634175,  0.2384702 ,\n",
              "        -0.12544158, -1.2093492 ],\n",
              "       [ 0.04811588, -0.00683697, -0.1352891 , -0.22493422, -0.2903259 ,\n",
              "         0.25756523, -0.01066646, -0.24378334,  0.1623934 , -0.10569101,\n",
              "        -0.07291475, -0.00286224, -0.01804158, -0.13649414, -0.2942216 ,\n",
              "         0.20805585, -0.05736366, -0.0880931 , -0.23426029,  0.1156072 ,\n",
              "        -0.31375512,  0.2225659 , -0.13916855,  0.37830076, -0.12283328,\n",
              "        -0.03993842,  0.30918694, -0.26393008, -0.00331414,  0.20222408,\n",
              "        -0.11797968,  0.0804955 ],\n",
              "       [ 0.22862375, -0.20610674,  0.30099052,  0.32282376, -0.27374762,\n",
              "         0.08223584,  0.04864472,  0.3222679 , -0.10316727,  0.06920412,\n",
              "         0.359524  , -0.12001169, -0.28382018, -0.34700847,  0.33877647,\n",
              "        -0.09239915, -0.00793582, -0.3536968 ,  0.04389063, -0.0708999 ,\n",
              "         0.04979885,  0.21920687,  0.00378481,  0.22116727,  0.01295242,\n",
              "        -0.0891538 , -0.18428867, -0.24577904,  0.1286202 , -0.10187432,\n",
              "         0.32646477,  0.29802126],\n",
              "       [ 1.0289754 , -0.99944484, -0.15381238, -0.19929627,  1.0284554 ,\n",
              "         0.55644184,  0.00744095,  0.09197617, -0.5754121 ,  1.3510674 ,\n",
              "        -0.35511565, -0.09115839,  0.01152319, -1.0266242 ,  0.32126498,\n",
              "        -0.22889344,  1.1815832 ,  0.36415625, -0.01956823,  0.23217846,\n",
              "         0.19465446, -0.9090372 ,  1.1965624 ,  0.1523336 ,  0.22098313,\n",
              "        -0.01274455,  0.11506969,  0.07077008,  0.00803414, -0.2630433 ,\n",
              "        -0.056629  ,  1.0903524 ],\n",
              "       [ 0.40577182, -0.44023573, -0.12402432, -0.3103022 ,  0.70006603,\n",
              "         0.26115978,  0.37895936, -0.11024624, -0.35077462,  0.6613078 ,\n",
              "         0.19669443,  0.25268173,  0.11340684, -0.26369244, -0.01642779,\n",
              "        -0.2513625 ,  0.28946596,  0.20188177,  0.04265633,  0.03504573,\n",
              "         0.27117193,  0.13608037,  0.14185993, -0.29800943, -0.34045205,\n",
              "         0.11226249,  0.03706104, -0.21318907, -0.16767731, -0.34680015,\n",
              "        -0.02031469,  0.1971027 ],\n",
              "       [-0.42419627,  0.6340862 , -0.27548066, -0.26093966,  0.05277912,\n",
              "        -0.0289612 , -0.3770668 ,  0.24322128,  0.6080282 , -0.13510402,\n",
              "         0.19055814, -0.27783716, -0.24676919,  0.80653775, -0.33139   ,\n",
              "        -0.34724376, -0.15541407, -0.31925753,  0.00414807, -0.0138218 ,\n",
              "        -0.35887018,  0.4837953 , -0.31572953,  0.1841464 , -0.1372146 ,\n",
              "         0.04825458,  0.16246134, -0.29446658, -0.29835612, -0.06121013,\n",
              "        -0.11246306, -0.24492726],\n",
              "       [ 1.3430481 , -0.437956  , -0.07415599,  0.04345867,  1.1735718 ,\n",
              "         1.2094477 , -0.3471036 , -0.3718763 , -0.9559167 ,  1.0106777 ,\n",
              "        -0.05547854, -0.2887596 , -0.27320987, -0.5419965 ,  0.08633181,\n",
              "         0.02678195,  1.1940682 ,  0.01420137, -0.33418167,  0.130494  ,\n",
              "         0.04174024, -0.9512212 ,  0.9312295 , -0.3412806 , -0.16360424,\n",
              "        -0.15271303, -0.290937  ,  0.21411714, -0.37345707, -0.28263953,\n",
              "        -0.24523672,  1.1868252 ]], dtype=float32)"
            ]
          },
          "metadata": {
            "tags": []
          },
          "execution_count": 31
        }
      ]
    },
    {
      "cell_type": "code",
      "metadata": {
        "colab": {
          "base_uri": "https://localhost:8080/"
        },
        "id": "NsTBR6OoyZw-",
        "outputId": "8b743f40-afe7-45ce-b1fa-ba8104bed93e"
      },
      "source": [
        "third_layer_weights "
      ],
      "execution_count": 32,
      "outputs": [
        {
          "output_type": "execute_result",
          "data": {
            "text/plain": [
              "array([[ 2.0175393 ],\n",
              "       [-1.515572  ],\n",
              "       [ 0.00544871],\n",
              "       [-0.39993402],\n",
              "       [ 1.5640455 ],\n",
              "       [ 0.74719656],\n",
              "       [-0.16427556],\n",
              "       [-0.19776855],\n",
              "       [-0.90333664],\n",
              "       [ 1.1913414 ],\n",
              "       [-0.21365982],\n",
              "       [ 0.3124197 ],\n",
              "       [-0.15402052],\n",
              "       [-1.0456022 ],\n",
              "       [-0.21838862],\n",
              "       [-0.12953591],\n",
              "       [ 1.9865179 ],\n",
              "       [-0.27231544],\n",
              "       [ 0.2721334 ],\n",
              "       [-0.3157095 ],\n",
              "       [ 0.2776562 ],\n",
              "       [-1.2475085 ],\n",
              "       [ 1.7274141 ],\n",
              "       [-0.06382418],\n",
              "       [-0.08160961],\n",
              "       [-0.25053844],\n",
              "       [-0.04325393],\n",
              "       [-0.14655672],\n",
              "       [-0.05421352],\n",
              "       [-0.30749387],\n",
              "       [-0.17726299],\n",
              "       [ 1.8954746 ]], dtype=float32)"
            ]
          },
          "metadata": {
            "tags": []
          },
          "execution_count": 32
        }
      ]
    },
    {
      "cell_type": "code",
      "metadata": {
        "colab": {
          "base_uri": "https://localhost:8080/"
        },
        "id": "bdPVaX8i65It",
        "outputId": "4ec7178d-5486-4c6a-f14d-06d18c9735d1"
      },
      "source": [
        "print(third_layer_biases)"
      ],
      "execution_count": 33,
      "outputs": [
        {
          "output_type": "stream",
          "text": [
            "[0.14525947]\n"
          ],
          "name": "stdout"
        }
      ]
    },
    {
      "cell_type": "markdown",
      "metadata": {
        "id": "YeG2_hhBF2nj"
      },
      "source": [
        "#### F1 score and heatmaps showing confustion matrix"
      ]
    },
    {
      "cell_type": "code",
      "metadata": {
        "colab": {
          "base_uri": "https://localhost:8080/"
        },
        "id": "JThl7DEl5_td",
        "outputId": "bb002804-1f2c-4099-e096-136f0875451b"
      },
      "source": [
        "import sklearn\n",
        "sklearn.metrics.f1_score(y_test, y_pr)"
      ],
      "execution_count": 34,
      "outputs": [
        {
          "output_type": "execute_result",
          "data": {
            "text/plain": [
              "1.0"
            ]
          },
          "metadata": {
            "tags": []
          },
          "execution_count": 34
        }
      ]
    },
    {
      "cell_type": "code",
      "metadata": {
        "id": "DAzI7Ot1GsXA"
      },
      "source": [
        "from sklearn.metrics import confusion_matrix"
      ],
      "execution_count": 35,
      "outputs": []
    },
    {
      "cell_type": "code",
      "metadata": {
        "colab": {
          "base_uri": "https://localhost:8080/"
        },
        "id": "CG5KFl03HWQx",
        "outputId": "7da4b5f5-de46-45a2-9fd3-468177d70a88"
      },
      "source": [
        "cf_matrix = confusion_matrix(y_test, y_pr)\n",
        "print(cf_matrix)"
      ],
      "execution_count": 36,
      "outputs": [
        {
          "output_type": "stream",
          "text": [
            "[[157   0]\n",
            " [  0 118]]\n"
          ],
          "name": "stdout"
        }
      ]
    },
    {
      "cell_type": "code",
      "metadata": {
        "colab": {
          "base_uri": "https://localhost:8080/",
          "height": 283
        },
        "id": "_t7Q2W51Hd7-",
        "outputId": "19c96a1e-7878-48ba-e458-6e9c8dd1a256"
      },
      "source": [
        "sns.heatmap(cf_matrix, annot=True)"
      ],
      "execution_count": 37,
      "outputs": [
        {
          "output_type": "execute_result",
          "data": {
            "text/plain": [
              "<matplotlib.axes._subplots.AxesSubplot at 0x7f4c9af23450>"
            ]
          },
          "metadata": {
            "tags": []
          },
          "execution_count": 37
        },
        {
          "output_type": "display_data",
          "data": {
            "image/png": "[encoded data removed]",
            "text/plain": [
              "<Figure size 432x288 with 2 Axes>"
            ]
          },
          "metadata": {
            "tags": [],
            "needs_background": "light"
          }
        }
      ]
    },
    {
      "cell_type": "code",
      "metadata": {
        "colab": {
          "base_uri": "https://localhost:8080/",
          "height": 283
        },
        "id": "8rZx6FQJL1Rl",
        "outputId": "a107a4cb-05ee-4ed0-90c8-f435e999419f"
      },
      "source": [
        "sns.heatmap(cf_matrix/np.sum(cf_matrix),\n",
        "            annot=True,\n",
        "            fmt='.2%',\n",
        "            cmap='Blues')"
      ],
      "execution_count": 38,
      "outputs": [
        {
          "output_type": "execute_result",
          "data": {
            "text/plain": [
              "<matplotlib.axes._subplots.AxesSubplot at 0x7f4ce0035b50>"
            ]
          },
          "metadata": {
            "tags": []
          },
          "execution_count": 38
        },
        {
          "output_type": "display_data",
          "data": {
            "image/png": "[encoded data removed]",
            "text/plain": [
              "<Figure size 432x288 with 2 Axes>"
            ]
          },
          "metadata": {
            "tags": [],
            "needs_background": "light"
          }
        }
      ]
    }
  ]
}